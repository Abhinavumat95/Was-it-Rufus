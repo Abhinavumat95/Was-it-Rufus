{
 "cells": [
  {
   "cell_type": "code",
   "execution_count": 1,
   "metadata": {},
   "outputs": [],
   "source": [
    "# Importing necessary packages and libraries\n",
    "from git import Repo\n",
    "import git\n",
    "import time\n",
    "from datetime import date, datetime"
   ]
  },
  {
   "cell_type": "code",
   "execution_count": 2,
   "metadata": {},
   "outputs": [],
   "source": [
    "# Taking input from the user\n",
    "r = int(input(\"Do you want to clone the repository in local machine press 0 for No or 1 for yes. \"))\n",
    "if (r == 0):\n",
    "    path2 = input(\"Enter the path where the repository is stored in local machine: \")\n",
    "    repo = Repo(path2)\n",
    "elif (r == 1):\n",
    "    path1 = input(\"Enter path for your repository: \")\n",
    "    path2 = input(\"Enter the path for local machine where you want to clone the repository: \")\n",
    "    git.Git(path2).clone(path1)\n",
    "    repo = Repo(path2)\n",
    "else:\n",
    "    raise Exception(\"Sorry, please Enter either 0 or 1.\")"
   ]
  },
  {
   "cell_type": "code",
   "execution_count": 3,
   "metadata": {},
   "outputs": [],
   "source": [
    "# Getting the active branch of repository\n",
    "active_branch = repo.active_branch\n",
    "\n",
    "# Getting the info for the latest commit\n",
    "commit = repo.head.commit\n",
    "\n",
    "# Getting the date for the last commit\n",
    "authored_date = commit.authored_date\n",
    "d1 = time.strftime(\"%Y/%m/%d\", time.gmtime(authored_date))\n",
    "\n",
    "# Getting the date for the present day\n",
    "t = date.today()\n",
    "d2 = t.strftime(\"%Y/%m/%d\")\n",
    "\n",
    "# Getting the difference between present date and last commit date \n",
    "date1 = datetime.strptime(d1, \"%Y/%m/%d\")\n",
    "date2 = datetime.strptime(d2, \"%Y/%m/%d\")\n",
    "delta = date2 - date1"
   ]
  },
  {
   "cell_type": "code",
   "execution_count": 4,
   "metadata": {},
   "outputs": [],
   "source": [
    "# Checking if last commit was authored in last week\n",
    "if (delta.days > 7):\n",
    "    recent_commit = False\n",
    "else:\n",
    "    recent_commit = True\n",
    "\n",
    "# Checking if last commit was authored by Rufus\n",
    "if (commit.author.name == \"Rufus\"):\n",
    "    blame_rufus = True\n",
    "else:\n",
    "    blame_rufus = False"
   ]
  },
  {
   "cell_type": "code",
   "execution_count": 5,
   "metadata": {},
   "outputs": [],
   "source": [
    "# Getting the list of all modified files\n",
    "modified_files = [ item.a_path for item in repo.index.diff(None) ]\n",
    "\n",
    "# Checking if any files were modified\n",
    "if (modified_files):\n",
    "    local_changes = True\n",
    "else:\n",
    "    local_changes = False"
   ]
  },
  {
   "cell_type": "code",
   "execution_count": 6,
   "metadata": {},
   "outputs": [
    {
     "name": "stdout",
     "output_type": "stream",
     "text": [
      "active branch:  main\n",
      "local changes:  True\n",
      "recent commit:  False\n",
      "blame Rufus:  False\n"
     ]
    }
   ],
   "source": [
    "# Printing the results \n",
    "print(\"active branch: \",active_branch)\n",
    "print(\"local changes: \",local_changes)\n",
    "print(\"recent commit: \",recent_commit)\n",
    "print(\"blame Rufus: \",blame_rufus)"
   ]
  }
 ],
 "metadata": {
  "kernelspec": {
   "display_name": "Python 3.10.8 64-bit (microsoft store)",
   "language": "python",
   "name": "python3"
  },
  "language_info": {
   "codemirror_mode": {
    "name": "ipython",
    "version": 3
   },
   "file_extension": ".py",
   "mimetype": "text/x-python",
   "name": "python",
   "nbconvert_exporter": "python",
   "pygments_lexer": "ipython3",
   "version": "3.10.9"
  },
  "orig_nbformat": 4,
  "vscode": {
   "interpreter": {
    "hash": "0f0553cb405aabd95e06a43738864be9c814d59b00f50376ce12693b29931b9a"
   }
  }
 },
 "nbformat": 4,
 "nbformat_minor": 2
}
